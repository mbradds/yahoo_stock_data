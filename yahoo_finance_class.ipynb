{
 "cells": [
  {
   "cell_type": "code",
   "execution_count": 3,
   "metadata": {},
   "outputs": [],
   "source": [
    "import numpy as np\n",
    "import pandas as pd\n",
    "import datetime\n",
    "import pandas_datareader.data as web\n",
    "import logging"
   ]
  },
  {
   "cell_type": "code",
   "execution_count": 33,
   "metadata": {},
   "outputs": [],
   "source": [
    "class yahoo:\n",
    "    \n",
    "    def __init__(self):\n",
    "        url = 'https://sg.finance.yahoo.com/world-indices'\n",
    "        index_url = str(url)\n",
    "        index = pd.read_html(index_url,header = [0])[0]\n",
    "\n",
    "        index_dict = {}\n",
    "        for s,n in zip(index['Symbol'], index['Name']):\n",
    "            index_dict[s] = n\n",
    "        self.index = index_dict\n",
    "        \n",
    "    def show_stocks(self):\n",
    "        return(self.index)\n",
    "        \n",
    "    def yahoo_data(self,index_dict,start, end = datetime.datetime.now()):\n",
    " \n",
    "        year = start[0]\n",
    "        month = start[1]\n",
    "        day = start[2]\n",
    "        pop_list = []\n",
    "\n",
    "        if end.date() != datetime.datetime.now().date():\n",
    "            year_end = end[0]\n",
    "            month_end = end[1]\n",
    "            day_end = end[2]\n",
    "            end = datetime.datetime(year_end, month_end, day_end)\n",
    "\n",
    "\n",
    "        for key in index_dict:\n",
    "            index_dict[key] = pd.DataFrame()\n",
    "\n",
    "            start = datetime.datetime(year, month, day)\n",
    "            #end = datetime.datetime.now()\n",
    "            try:\n",
    "                index_dict[key] = web.DataReader(key, 'yahoo', start, end)\n",
    "                idx = pd.date_range(start, end)\n",
    "                index_dict[key] = index_dict[key].reindex(idx, fill_value=np.nan)\n",
    "                df_index_1 = key.replace('^','')\n",
    "                columns = pd.MultiIndex.from_arrays([[df_index_1]*6,\n",
    "                                         ['High','Low','Open','Close','Volume','Adj Close']])\n",
    "                index_dict[key].columns = columns\n",
    "                print('got data for symbol:'+str(key))\n",
    "            except:\n",
    "                print('couldnt get data for symbol:'+str(key))\n",
    "                pop_list.append(key)\n",
    "\n",
    "        for x in pop_list:\n",
    "            index_dict.pop(x)\n",
    "\n",
    "        #join all the dataframes together\n",
    "        master_frame = pd.DataFrame()\n",
    "\n",
    "        for key in index_dict:\n",
    "            if master_frame.empty:\n",
    "                master_frame = index_dict[key]\n",
    "            else:\n",
    "                master_frame = pd.merge(master_frame, index_dict[key], left_index=True, right_index=True, how='outer')\n",
    "\n",
    "        return(master_frame) \n",
    "    "
   ]
  },
  {
   "cell_type": "code",
   "execution_count": 34,
   "metadata": {},
   "outputs": [],
   "source": [
    "y = yahoo()\n",
    "default_stocks = y.show_stocks() "
   ]
  },
  {
   "cell_type": "code",
   "execution_count": 35,
   "metadata": {},
   "outputs": [
    {
     "data": {
      "text/plain": [
       "{'^STI': 'Straits Times Index',\n",
       " '^GSPC': 'S&P 500',\n",
       " '^DJI': 'Dow',\n",
       " '^IXIC': 'Nasdaq',\n",
       " '^FTSE': 'FTSE 100',\n",
       " '^N225': 'Nikkei',\n",
       " '^HSI': 'HANG SENG INDEX',\n",
       " '^TWII': 'TSEC weighted index',\n",
       " '000001.SS': 'SSE Composite Index',\n",
       " '^GDAXI': 'DAX PERFORMANCE-INDEX',\n",
       " '^FCHI': 'CAC 40',\n",
       " '^JKSE': 'Jakarta Composite Index',\n",
       " '^KLSE': 'FTSE Bursa Malaysia',\n",
       " 'PSEI.PS': 'PSE Index',\n",
       " '^AORD': 'ALL ORDINARIES',\n",
       " '^KS11': 'KOSPI Composite Index',\n",
       " '^BSESN': 'S&P BSE SENSEX',\n",
       " '^NZ50': 'S&P/NZX 50 INDEX GROSS',\n",
       " '^NYA': 'NYSE COMPOSITE (DJ)',\n",
       " '^XAX': 'NYSE AMEX COMPOSITE INDEX',\n",
       " '^RUT': 'Russell 2000',\n",
       " '^VIX': 'CBOE Volatility Index',\n",
       " '^GSPTSE': 'S&P/TSX Composite index',\n",
       " '^AXJO': 'S&P/ASX 200',\n",
       " '^STOXX50E': 'ESTX 50 PR.EUR',\n",
       " '^N100': 'EURONEXT 100',\n",
       " '^BFX': 'BEL 20',\n",
       " 'IMOEX.ME': 'MOEX Russia Index',\n",
       " '^BVSP': 'IBOVESPA',\n",
       " '^MXX': 'IPC MEXICO',\n",
       " '^IPSA': 'IPSA SANTIAGO DE CHILE',\n",
       " '^MERV': 'MERVAL',\n",
       " '^TA125.TA': 'TA-125',\n",
       " '^CASE30': 'EGX 30 Price Return Index',\n",
       " '^JN0U.JO': 'Top 40 USD Net TRI Index',\n",
       " '^NSEI': 'NIFTY 50'}"
      ]
     },
     "execution_count": 35,
     "metadata": {},
     "output_type": "execute_result"
    }
   ],
   "source": [
    "default_stocks"
   ]
  },
  {
   "cell_type": "code",
   "execution_count": 36,
   "metadata": {},
   "outputs": [
    {
     "name": "stdout",
     "output_type": "stream",
     "text": [
      "couldnt get data for symbol:^STI\n",
      "got data for symbol:^GSPC\n",
      "got data for symbol:^DJI\n",
      "got data for symbol:^IXIC\n",
      "couldnt get data for symbol:^FTSE\n",
      "got data for symbol:^N225\n",
      "got data for symbol:^HSI\n",
      "got data for symbol:^TWII\n",
      "got data for symbol:000001.SS\n",
      "got data for symbol:^GDAXI\n",
      "got data for symbol:^FCHI\n",
      "got data for symbol:^JKSE\n",
      "couldnt get data for symbol:^KLSE\n",
      "got data for symbol:PSEI.PS\n",
      "got data for symbol:^AORD\n",
      "got data for symbol:^KS11\n",
      "got data for symbol:^BSESN\n",
      "got data for symbol:^NZ50\n",
      "got data for symbol:^NYA\n",
      "got data for symbol:^XAX\n",
      "got data for symbol:^RUT\n",
      "got data for symbol:^VIX\n",
      "got data for symbol:^GSPTSE\n",
      "got data for symbol:^AXJO\n",
      "got data for symbol:^STOXX50E\n",
      "got data for symbol:^N100\n",
      "got data for symbol:^BFX\n",
      "got data for symbol:IMOEX.ME\n",
      "got data for symbol:^BVSP\n",
      "got data for symbol:^MXX\n",
      "got data for symbol:^IPSA\n",
      "got data for symbol:^MERV\n",
      "got data for symbol:^TA125.TA\n",
      "got data for symbol:^CASE30\n",
      "got data for symbol:^JN0U.JO\n",
      "got data for symbol:^NSEI\n"
     ]
    }
   ],
   "source": [
    "start = [2000,1,1]\n",
    "df = y.yahoo_data(default_stocks,start)"
   ]
  },
  {
   "cell_type": "code",
   "execution_count": null,
   "metadata": {},
   "outputs": [],
   "source": []
  }
 ],
 "metadata": {
  "kernelspec": {
   "display_name": "Python 3",
   "language": "python",
   "name": "python3"
  },
  "language_info": {
   "codemirror_mode": {
    "name": "ipython",
    "version": 3
   },
   "file_extension": ".py",
   "mimetype": "text/x-python",
   "name": "python",
   "nbconvert_exporter": "python",
   "pygments_lexer": "ipython3",
   "version": "3.7.1"
  }
 },
 "nbformat": 4,
 "nbformat_minor": 2
}
